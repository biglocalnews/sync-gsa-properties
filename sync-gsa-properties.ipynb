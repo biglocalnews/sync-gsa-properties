{
 "cells": [
  {
   "cell_type": "markdown",
   "id": "19fe8f88",
   "metadata": {},
   "source": [
    "# API sync demonstration\n",
    "\n",
    "This program syncs U.S. General Service Administration lease and property\n",
    "holding records from a federal API to a local drive, then syncs them with\n",
    "Big Local News' server using BLN's API.\n",
    "\n",
    "This is not a complex program, but is intended to show how easy it is to build things.\n",
    "\n",
    "We start with bringing in some required modules.\n",
    "\n",
    "The `bln` client itself is helpful.\n",
    "\n",
    "`requests` is a rather common module used to, among other things,\n",
    "download files. It can do a lot more.\n",
    "\n",
    "The rest are internal Python parts: `datetime` for calculating dates;\n",
    "`json` for reading JSON-formatted data files;\n",
    "`os` for doing some things with the operating system, like creating directories;\n",
    "and `sys`, which here we use just to quit the Python program if we don't need to do anything else."
   ]
  },
  {
   "cell_type": "code",
   "execution_count": null,
   "id": "2f909300",
   "metadata": {},
   "outputs": [],
   "source": [
    "from bln.client import Client\n",
    "import requests\n",
    "\n",
    "import datetime\n",
    "import json\n",
    "import os\n",
    "import sys"
   ]
  },
  {
   "cell_type": "markdown",
   "id": "b31caaa6",
   "metadata": {},
   "source": [
    "## API preparation\n",
    "\n",
    "Next, we're going to retrieve the credentials for the APIs.\n",
    "That's an abbreviation for the Application Programming Interface,\n",
    "which ... is a lot to say. But it's basically a defined way for\n",
    "one computer to do stuff with another computer -- retrieve information,\n",
    "upload file, get a listing of projects, all stuff like that.\n",
    "\n",
    "A lot of the work you want to do will typically involve several\n",
    "API calls to bring it all together, in the same way few recipes\n",
    "are just one step.\n",
    "\n",
    "To request a federal API key, visit https://api.data.gov/signup/\n",
    "if that link still works. Things were ... changing ... quickly in\n",
    "early 2025.\n",
    "\n",
    "Big Local News has instructions on getting an API key for their\n",
    "service at https://bln-python-client.readthedocs.io/en/latest/gettingstarted.html#setup ..."
   ]
  },
  {
   "cell_type": "code",
   "execution_count": null,
   "id": "573bae22",
   "metadata": {},
   "outputs": [],
   "source": [
    "bln_api = os.environ[\"BLN_API_TOKEN\"]     # A consistent naming scheme is the hobgoblin of little minds\n",
    "fed_api = os.environ[\"DATA_DOT_GOV\"]\n",
    "\n",
    "sync_log_file = \"sync-log.json\"\n",
    "\n",
    "data_dir = \"data/\"\n",
    "os.makedirs(data_dir, exist_ok=True)      # Create the data directory if it doesn't already exist"
   ]
  },
  {
   "cell_type": "markdown",
   "id": "6692f208",
   "metadata": {},
   "source": [
    "Now, let's take the BLN API key and use it to create an instance of BLN's client. That's just one line."
   ]
  },
  {
   "cell_type": "code",
   "execution_count": null,
   "id": "a08670ee",
   "metadata": {},
   "outputs": [],
   "source": [
    "bln = Client(bln_api)"
   ]
  },
  {
   "cell_type": "markdown",
   "id": "b379bdaa",
   "metadata": {},
   "source": [
    "Let's build a couple functions to make the code somewhat more readable, though this code has plenty of problems remaining."
   ]
  },
  {
   "cell_type": "code",
   "execution_count": null,
   "id": "b3a92233",
   "metadata": {},
   "outputs": [],
   "source": [
    "def fetch_log():\n",
    "    global sync_log_file\n",
    "    if not os.path.exists(sync_log_file):\n",
    "        local_log = {}\n",
    "        print(f\"No log data found.\")\n",
    "    else:\n",
    "        with open(sync_log_file, \"r\", encoding=\"utf-8\") as infile:\n",
    "            local_log = json.load(infile)\n",
    "            print(f\"{len(local_log):,} log entries found.\")\n",
    "    return(local_log)"
   ]
  },
  {
   "cell_type": "code",
   "execution_count": null,
   "id": "37bac29c",
   "metadata": {},
   "outputs": [],
   "source": [
    "def save_log(local_log):\n",
    "    global sync_log_file\n",
    "    with open(sync_log_file, \"w\", encoding=\"utf-8\") as outfile:\n",
    "        outfile.write(json.dumps(local_log, indent=4*\" \"))\n",
    "    return"
   ]
  },
  {
   "cell_type": "code",
   "execution_count": null,
   "id": "bf032831",
   "metadata": {},
   "outputs": [],
   "source": [
    "# Get the GSA project.\n",
    "project = bln.get_project_by_name(\"GSA leases and properties\")"
   ]
  },
  {
   "cell_type": "code",
   "execution_count": null,
   "id": "3ad694e3",
   "metadata": {},
   "outputs": [],
   "source": [
    "# Get all the files in the project.\n",
    "archived_files = {}\n",
    "for f in project['files']:\n",
    "    archived_files[f['name']] = f['updatedAt']\n",
    "print(f\"{len(archived_files):,} archived files found.\")"
   ]
  },
  {
   "cell_type": "code",
   "execution_count": null,
   "id": "9619413b",
   "metadata": {},
   "outputs": [],
   "source": [
    "r = requests.get(\"https://catalog.data.gov/api/3/action/package_show?id=inventory-of-owned-and-leased-properties-iolp\")"
   ]
  },
  {
   "cell_type": "code",
   "execution_count": null,
   "id": "50cca2fb",
   "metadata": {},
   "outputs": [],
   "source": [
    "additions = []\n",
    "downloaded_files = {}\n",
    "\n",
    "catalog_entries = r.json()['result']['resources']\n",
    "\n",
    "for catalog_entry in catalog_entries:\n",
    "    remoteurl = catalog_entry['url']\n",
    "    remotefilename = remoteurl.split(\"/\")[-1]\n",
    "    if remotefilename not in archived_files:\n",
    "        additions.append(catalog_entry)\n",
    "        downloaded_files[remotefilename] = False\n",
    "print(f\"{len(additions):,} new entries found among {len(catalog_entries):,} source files.\")"
   ]
  },
  {
   "cell_type": "code",
   "execution_count": null,
   "id": "d5c284b5",
   "metadata": {},
   "outputs": [],
   "source": [
    "timestamp = datetime.datetime.isoformat(datetime.datetime.now(datetime.timezone.utc))"
   ]
  },
  {
   "cell_type": "code",
   "execution_count": null,
   "id": "ca5ff24c",
   "metadata": {},
   "outputs": [],
   "source": [
    "log_data = fetch_log()"
   ]
  },
  {
   "cell_type": "code",
   "execution_count": null,
   "id": "dd101d93",
   "metadata": {},
   "outputs": [],
   "source": [
    "log_data[timestamp] = {\n",
    "    \"additions\": additions,\n",
    "    \"downloaded_files\": downloaded_files,\n",
    "    \"archived_files\": archived_files,\n",
    "}"
   ]
  },
  {
   "cell_type": "code",
   "execution_count": null,
   "id": "50105955",
   "metadata": {},
   "outputs": [],
   "source": [
    "save_log(log_data)"
   ]
  },
  {
   "cell_type": "code",
   "execution_count": null,
   "id": "486e46fd",
   "metadata": {},
   "outputs": [],
   "source": [
    "if len(additions) == 0:\n",
    "    print(\"No new records found. Stopping.\")\n",
    "    sys.exit()"
   ]
  },
  {
   "cell_type": "code",
   "execution_count": null,
   "id": "5ee15bf9",
   "metadata": {},
   "outputs": [],
   "source": [
    "print(f\"{len(additions):,} new records found.\")\n",
    "project_id = project['id']\n",
    "for addition in additions:\n",
    "    remoteurl = addition['url']\n",
    "    basefilename = remoteurl.split(\"/\")[-1]\n",
    "    targetfilename = data_dir + basefilename\n",
    "    print(f\"Trying to fetch {remoteurl} to {targetfilename}.\")\n",
    "    r = requests.get(remoteurl)\n",
    "    if not r.ok:\n",
    "        print(f\"Error downloading {remoteurl} to {targetfilename}.\")\n",
    "    else:\n",
    "        with open(targetfilename, \"wb\") as outfile:\n",
    "            outfile.write(r.content)\n",
    "        print(f\"Trying to send {basefilename} to BigLocalNews.\")\n",
    "        bln.upload_file(project_id, targetfilename)\n",
    "        log_data[timestamp][\"downloaded_files\"][basefilename] = True"
   ]
  },
  {
   "cell_type": "code",
   "execution_count": null,
   "id": "29ff8e00",
   "metadata": {},
   "outputs": [],
   "source": [
    "save_log(log_data)"
   ]
  },
  {
   "cell_type": "raw",
   "id": "b3da0f02",
   "metadata": {},
   "source": [
    "# Fed API instructions https://docs.ckan.org/en/2.10/api/index.html#get-able-api-functions\n",
    "\n",
    "http://demo.ckan.org/api/3/action/package_list\n",
    "https://catalog.data.gov/dataset/inventory-of-owned-and-leased-properties-iolp\n",
    "    \n",
    "https://catalog.data.gov/api/3/action/package_search?q=properties    \n",
    "    \n",
    "    http://demo.ckan.org/api/3/action/package_search?q=spending\n",
    "        \n",
    "http://demo.ckan.org/api/3/action/package_show?id=adur_district_spending        \n",
    "        \n",
    "api.data.gov/api/3/action/package_search?q=iolp\n",
    "\n",
    "https://catalog.data.gov/api/3/action/package_show?id=inventory-of-owned-and-leased-properties-iolp\n",
    "\n",
    "\n"
   ]
  }
 ],
 "metadata": {
  "kernelspec": {
   "display_name": "Python 3 (ipykernel)",
   "language": "python",
   "name": "python3"
  },
  "language_info": {
   "codemirror_mode": {
    "name": "ipython",
    "version": 3
   },
   "file_extension": ".py",
   "mimetype": "text/x-python",
   "name": "python",
   "nbconvert_exporter": "python",
   "pygments_lexer": "ipython3",
   "version": "3.10.6"
  }
 },
 "nbformat": 4,
 "nbformat_minor": 5
}
